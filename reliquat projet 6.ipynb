{
 "cells": [
  {
   "cell_type": "code",
   "execution_count": null,
   "metadata": {},
   "outputs": [],
   "source": [
    "from sklearn.feature_extraction.text import CountVectorizer, TfidfVectorizer\n",
    "\n",
    "\n",
    "# Instanciation of the tf-idf vectorizer\n",
    "tfidf_vectorizer = TfidfVectorizer(\n",
    "    strip_accents='unicode',\n",
    "    lowercase=True,\n",
    "    stop_words='english',\n",
    "    analyzer='word',\n",
    "    max_df=0.8,\n",
    "    min_df=0.005,\n",
    "    ngram_range=(1, 1),\n",
    ")\n",
    "\n",
    "#  Tf-idf vectorizer\n",
    "corpus = data_filtered['Name_and_Description']\n",
    "tfidf_vectorizer.fit(data_filtered['product_name'])\n",
    "X = tfidf_vectorizer.transform(data_filtered['Name_and_Description'])\n",
    "Colonne = tfidf_vectorizer.get_feature_names_out ()\n",
    "\n",
    "# Conversion to a dense array for later use\n",
    "X_dense = X.todense()\n",
    "\n",
    "print('Size of the vocabulary: {}'.format(len(list(tfidf_vectorizer.vocabulary_))))\n",
    "print('Number of stop words: {}'.format(len(tfidf_vectorizer.stop_words_)))"
   ]
  },
  {
   "cell_type": "code",
   "execution_count": null,
   "metadata": {},
   "outputs": [
    {
     "data": {
      "text/plain": [
       "(1050, 203)"
      ]
     },
     "metadata": {},
     "output_type": "display_data"
    }
   ],
   "source": [
    "X_dense.shape"
   ]
  },
  {
   "cell_type": "code",
   "execution_count": null,
   "metadata": {},
   "outputs": [
    {
     "data": {
      "text/plain": [
       "matrix([[0.23865098, 0.        , 0.        , ..., 0.        , 0.        ,\n",
       "         0.        ],\n",
       "        [0.        , 0.        , 0.        , ..., 0.        , 0.21563305,\n",
       "         0.        ],\n",
       "        [0.        , 0.        , 0.        , ..., 0.        , 0.        ,\n",
       "         0.        ],\n",
       "        ...,\n",
       "        [0.        , 0.        , 0.        , ..., 0.        , 0.        ,\n",
       "         0.        ],\n",
       "        [0.        , 0.        , 0.        , ..., 0.        , 0.        ,\n",
       "         0.        ],\n",
       "        [0.        , 0.        , 0.        , ..., 0.        , 0.        ,\n",
       "         0.        ]])"
      ]
     },
     "metadata": {},
     "output_type": "display_data"
    }
   ],
   "source": [
    "X_dense"
   ]
  },
  {
   "attachments": {},
   "cell_type": "markdown",
   "metadata": {},
   "source": [
    "from sklearn.manifold import TSNE\n",
    "import time\n",
    "time_start = time.time()\n",
    "# scaler = StandardScaler()\n",
    "# X_scaled = scaler.fit_transform(df)\n",
    "T_sne = TSNE(n_components=2,\n",
    "            perplexity=30,\n",
    "            init='pca',\n",
    "        random_state=42).fit_transform(X_dense_Projected)\n",
    "\n",
    "print ('t-SNE done! Time elapsed: {} seconds'.format(time.time()-time_start))"
   ]
  }
 ],
 "metadata": {
  "language_info": {
   "name": "python"
  },
  "orig_nbformat": 4
 },
 "nbformat": 4,
 "nbformat_minor": 2
}
